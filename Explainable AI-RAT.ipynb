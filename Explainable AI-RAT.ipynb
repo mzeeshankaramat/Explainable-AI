{
 "cells": [
  {
   "cell_type": "markdown",
   "metadata": {},
   "source": [
    "# Importing  required libraries"
   ]
  },
  {
   "cell_type": "code",
   "execution_count": 21,
   "metadata": {},
   "outputs": [],
   "source": [
    "import numpy as np # linear algebra\n",
    "import pandas as pd # data processing, CSV file I/O (e.g. pd.read_csv)\n",
    "import matplotlib.pyplot as plt\n",
    "from sklearn.preprocessing import StandardScaler\n",
    "from sklearn.model_selection import train_test_split,GridSearchCV,RandomizedSearchCV\n",
    "from sklearn.metrics import accuracy_score,confusion_matrix,precision_score,recall_score,classification_report, roc_auc_score, roc_curve,f1_score\n",
    "from sklearn.linear_model import LogisticRegression\n",
    "from sklearn.metrics import f1_score\n",
    "from itertools import chain, combinations\n",
    "from mypulp import *\n",
    "from collections import Counter\n",
    "import random"
   ]
  },
  {
   "cell_type": "markdown",
   "metadata": {},
   "source": [
    "# Reading data from csv"
   ]
  },
  {
   "cell_type": "code",
   "execution_count": 2,
   "metadata": {},
   "outputs": [],
   "source": [
    "df = pd.read_csv(open(\"C:\\z documents\\CureMD\\indian_liver_patient.csv\"))"
   ]
  },
  {
   "cell_type": "code",
   "execution_count": 3,
   "metadata": {},
   "outputs": [
    {
     "data": {
      "text/html": [
       "<div>\n",
       "<style scoped>\n",
       "    .dataframe tbody tr th:only-of-type {\n",
       "        vertical-align: middle;\n",
       "    }\n",
       "\n",
       "    .dataframe tbody tr th {\n",
       "        vertical-align: top;\n",
       "    }\n",
       "\n",
       "    .dataframe thead th {\n",
       "        text-align: right;\n",
       "    }\n",
       "</style>\n",
       "<table border=\"1\" class=\"dataframe\">\n",
       "  <thead>\n",
       "    <tr style=\"text-align: right;\">\n",
       "      <th></th>\n",
       "      <th>Age</th>\n",
       "      <th>Gender</th>\n",
       "      <th>Total_Bilirubin</th>\n",
       "      <th>Direct_Bilirubin</th>\n",
       "      <th>Alkaline_Phosphotase</th>\n",
       "      <th>Alamine_Aminotransferase</th>\n",
       "      <th>Aspartate_Aminotransferase</th>\n",
       "      <th>Total_Protiens</th>\n",
       "      <th>Albumin</th>\n",
       "      <th>Albumin_and_Globulin_Ratio</th>\n",
       "      <th>Dataset</th>\n",
       "    </tr>\n",
       "  </thead>\n",
       "  <tbody>\n",
       "    <tr>\n",
       "      <th>0</th>\n",
       "      <td>65</td>\n",
       "      <td>Female</td>\n",
       "      <td>0.7</td>\n",
       "      <td>0.1</td>\n",
       "      <td>187</td>\n",
       "      <td>16</td>\n",
       "      <td>18</td>\n",
       "      <td>6.8</td>\n",
       "      <td>3.3</td>\n",
       "      <td>0.90</td>\n",
       "      <td>1</td>\n",
       "    </tr>\n",
       "    <tr>\n",
       "      <th>1</th>\n",
       "      <td>62</td>\n",
       "      <td>Male</td>\n",
       "      <td>10.9</td>\n",
       "      <td>5.5</td>\n",
       "      <td>699</td>\n",
       "      <td>64</td>\n",
       "      <td>100</td>\n",
       "      <td>7.5</td>\n",
       "      <td>3.2</td>\n",
       "      <td>0.74</td>\n",
       "      <td>1</td>\n",
       "    </tr>\n",
       "    <tr>\n",
       "      <th>2</th>\n",
       "      <td>62</td>\n",
       "      <td>Male</td>\n",
       "      <td>7.3</td>\n",
       "      <td>4.1</td>\n",
       "      <td>490</td>\n",
       "      <td>60</td>\n",
       "      <td>68</td>\n",
       "      <td>7.0</td>\n",
       "      <td>3.3</td>\n",
       "      <td>0.89</td>\n",
       "      <td>1</td>\n",
       "    </tr>\n",
       "    <tr>\n",
       "      <th>3</th>\n",
       "      <td>58</td>\n",
       "      <td>Male</td>\n",
       "      <td>1.0</td>\n",
       "      <td>0.4</td>\n",
       "      <td>182</td>\n",
       "      <td>14</td>\n",
       "      <td>20</td>\n",
       "      <td>6.8</td>\n",
       "      <td>3.4</td>\n",
       "      <td>1.00</td>\n",
       "      <td>1</td>\n",
       "    </tr>\n",
       "    <tr>\n",
       "      <th>4</th>\n",
       "      <td>72</td>\n",
       "      <td>Male</td>\n",
       "      <td>3.9</td>\n",
       "      <td>2.0</td>\n",
       "      <td>195</td>\n",
       "      <td>27</td>\n",
       "      <td>59</td>\n",
       "      <td>7.3</td>\n",
       "      <td>2.4</td>\n",
       "      <td>0.40</td>\n",
       "      <td>1</td>\n",
       "    </tr>\n",
       "  </tbody>\n",
       "</table>\n",
       "</div>"
      ],
      "text/plain": [
       "   Age  Gender  Total_Bilirubin  Direct_Bilirubin  Alkaline_Phosphotase  \\\n",
       "0   65  Female              0.7               0.1                   187   \n",
       "1   62    Male             10.9               5.5                   699   \n",
       "2   62    Male              7.3               4.1                   490   \n",
       "3   58    Male              1.0               0.4                   182   \n",
       "4   72    Male              3.9               2.0                   195   \n",
       "\n",
       "   Alamine_Aminotransferase  Aspartate_Aminotransferase  Total_Protiens  \\\n",
       "0                        16                          18             6.8   \n",
       "1                        64                         100             7.5   \n",
       "2                        60                          68             7.0   \n",
       "3                        14                          20             6.8   \n",
       "4                        27                          59             7.3   \n",
       "\n",
       "   Albumin  Albumin_and_Globulin_Ratio  Dataset  \n",
       "0      3.3                        0.90        1  \n",
       "1      3.2                        0.74        1  \n",
       "2      3.3                        0.89        1  \n",
       "3      3.4                        1.00        1  \n",
       "4      2.4                        0.40        1  "
      ]
     },
     "execution_count": 3,
     "metadata": {},
     "output_type": "execute_result"
    }
   ],
   "source": [
    "df.head()"
   ]
  },
  {
   "cell_type": "markdown",
   "metadata": {},
   "source": [
    "# Preprocessing- Binary categorization"
   ]
  },
  {
   "cell_type": "code",
   "execution_count": 4,
   "metadata": {},
   "outputs": [],
   "source": [
    "df['Gender'].replace('Female',0,inplace=True)\n",
    "df['Gender'].replace('Male',1,inplace=True)\n",
    "df=df.dropna(axis=0)\n",
    "df['Dataset']=df['Dataset'].replace(2,0)"
   ]
  },
  {
   "cell_type": "code",
   "execution_count": 5,
   "metadata": {},
   "outputs": [
    {
     "name": "stdout",
     "output_type": "stream",
     "text": [
      "Age  categories with bin edges:  [ 4. 45. 90.]\n",
      "Total_Bilirubin  categories with bin edges:  [ 0.4  1.  75. ]\n",
      "Direct_Bilirubin  categories with bin edges:  [ 0.1  0.3 19.7]\n",
      "Alkaline_Phosphotase  categories with bin edges:  [  63.  208. 2110.]\n",
      "Alamine_Aminotransferase  categories with bin edges:  [  10.   35. 2000.]\n",
      "Aspartate_Aminotransferase  categories with bin edges:  [  10.   42. 4929.]\n",
      "Total_Protiens  categories with bin edges:  [2.7 6.6 9.6]\n",
      "Albumin  categories with bin edges:  [0.9 3.1 5.5]\n",
      "Albumin_and_Globulin_Ratio  categories with bin edges:  [0.3  0.93 2.8 ]\n"
     ]
    }
   ],
   "source": [
    "columns=('Age', 'Total_Bilirubin', 'Direct_Bilirubin',\n",
    "       'Alkaline_Phosphotase', 'Alamine_Aminotransferase',\n",
    "       'Aspartate_Aminotransferase', 'Total_Protiens', 'Albumin',\n",
    "       'Albumin_and_Globulin_Ratio')\n",
    "for col in columns:\n",
    "    df[col], tiles = pd.qcut(df[col], 2, labels = False, retbins = True, duplicates = \"drop\")\n",
    "    print(col, \" categories with bin edges: \", tiles)"
   ]
  },
  {
   "cell_type": "code",
   "execution_count": 6,
   "metadata": {},
   "outputs": [
    {
     "data": {
      "text/html": [
       "<div>\n",
       "<style scoped>\n",
       "    .dataframe tbody tr th:only-of-type {\n",
       "        vertical-align: middle;\n",
       "    }\n",
       "\n",
       "    .dataframe tbody tr th {\n",
       "        vertical-align: top;\n",
       "    }\n",
       "\n",
       "    .dataframe thead th {\n",
       "        text-align: right;\n",
       "    }\n",
       "</style>\n",
       "<table border=\"1\" class=\"dataframe\">\n",
       "  <thead>\n",
       "    <tr style=\"text-align: right;\">\n",
       "      <th></th>\n",
       "      <th>Age</th>\n",
       "      <th>Gender</th>\n",
       "      <th>Total_Bilirubin</th>\n",
       "      <th>Direct_Bilirubin</th>\n",
       "      <th>Alkaline_Phosphotase</th>\n",
       "      <th>Alamine_Aminotransferase</th>\n",
       "      <th>Aspartate_Aminotransferase</th>\n",
       "      <th>Total_Protiens</th>\n",
       "      <th>Albumin</th>\n",
       "      <th>Albumin_and_Globulin_Ratio</th>\n",
       "      <th>Dataset</th>\n",
       "    </tr>\n",
       "  </thead>\n",
       "  <tbody>\n",
       "    <tr>\n",
       "      <th>0</th>\n",
       "      <td>1</td>\n",
       "      <td>0</td>\n",
       "      <td>0</td>\n",
       "      <td>0</td>\n",
       "      <td>0</td>\n",
       "      <td>0</td>\n",
       "      <td>0</td>\n",
       "      <td>1</td>\n",
       "      <td>1</td>\n",
       "      <td>0</td>\n",
       "      <td>1</td>\n",
       "    </tr>\n",
       "    <tr>\n",
       "      <th>1</th>\n",
       "      <td>1</td>\n",
       "      <td>1</td>\n",
       "      <td>1</td>\n",
       "      <td>1</td>\n",
       "      <td>1</td>\n",
       "      <td>1</td>\n",
       "      <td>1</td>\n",
       "      <td>1</td>\n",
       "      <td>1</td>\n",
       "      <td>0</td>\n",
       "      <td>1</td>\n",
       "    </tr>\n",
       "    <tr>\n",
       "      <th>2</th>\n",
       "      <td>1</td>\n",
       "      <td>1</td>\n",
       "      <td>1</td>\n",
       "      <td>1</td>\n",
       "      <td>1</td>\n",
       "      <td>1</td>\n",
       "      <td>1</td>\n",
       "      <td>1</td>\n",
       "      <td>1</td>\n",
       "      <td>0</td>\n",
       "      <td>1</td>\n",
       "    </tr>\n",
       "    <tr>\n",
       "      <th>3</th>\n",
       "      <td>1</td>\n",
       "      <td>1</td>\n",
       "      <td>0</td>\n",
       "      <td>1</td>\n",
       "      <td>0</td>\n",
       "      <td>0</td>\n",
       "      <td>0</td>\n",
       "      <td>1</td>\n",
       "      <td>1</td>\n",
       "      <td>1</td>\n",
       "      <td>1</td>\n",
       "    </tr>\n",
       "    <tr>\n",
       "      <th>4</th>\n",
       "      <td>1</td>\n",
       "      <td>1</td>\n",
       "      <td>1</td>\n",
       "      <td>1</td>\n",
       "      <td>0</td>\n",
       "      <td>0</td>\n",
       "      <td>1</td>\n",
       "      <td>1</td>\n",
       "      <td>0</td>\n",
       "      <td>0</td>\n",
       "      <td>1</td>\n",
       "    </tr>\n",
       "  </tbody>\n",
       "</table>\n",
       "</div>"
      ],
      "text/plain": [
       "   Age  Gender  Total_Bilirubin  Direct_Bilirubin  Alkaline_Phosphotase  \\\n",
       "0    1       0                0                 0                     0   \n",
       "1    1       1                1                 1                     1   \n",
       "2    1       1                1                 1                     1   \n",
       "3    1       1                0                 1                     0   \n",
       "4    1       1                1                 1                     0   \n",
       "\n",
       "   Alamine_Aminotransferase  Aspartate_Aminotransferase  Total_Protiens  \\\n",
       "0                         0                           0               1   \n",
       "1                         1                           1               1   \n",
       "2                         1                           1               1   \n",
       "3                         0                           0               1   \n",
       "4                         0                           1               1   \n",
       "\n",
       "   Albumin  Albumin_and_Globulin_Ratio  Dataset  \n",
       "0        1                           0        1  \n",
       "1        1                           0        1  \n",
       "2        1                           0        1  \n",
       "3        1                           1        1  \n",
       "4        0                           0        1  "
      ]
     },
     "execution_count": 6,
     "metadata": {},
     "output_type": "execute_result"
    }
   ],
   "source": [
    "df.head()"
   ]
  },
  {
   "cell_type": "code",
   "execution_count": 7,
   "metadata": {},
   "outputs": [
    {
     "data": {
      "text/plain": [
       "1    414\n",
       "0    165\n",
       "Name: Dataset, dtype: int64"
      ]
     },
     "execution_count": 7,
     "metadata": {},
     "output_type": "execute_result"
    }
   ],
   "source": [
    "df['Dataset'].value_counts()"
   ]
  },
  {
   "cell_type": "markdown",
   "metadata": {},
   "source": [
    "# Splitting data for model"
   ]
  },
  {
   "cell_type": "code",
   "execution_count": 10,
   "metadata": {},
   "outputs": [],
   "source": [
    "headers = df.columns.tolist()\n",
    "X=df[df.columns[:-1]]\n",
    "Y=df['Dataset']\n",
    "X_train,X_test,Y_train,Y_test=train_test_split(X,Y,test_size=0.30,random_state=27)\n",
    "scaler=StandardScaler().fit(X_train)\n",
    "X_train=scaler.transform(X_train)\n",
    "X_test=scaler.transform(X_test)"
   ]
  },
  {
   "cell_type": "markdown",
   "metadata": {},
   "source": [
    "# Training model"
   ]
  },
  {
   "cell_type": "code",
   "execution_count": 11,
   "metadata": {},
   "outputs": [
    {
     "data": {
      "text/plain": [
       "0.6896551724137931"
      ]
     },
     "execution_count": 11,
     "metadata": {},
     "output_type": "execute_result"
    }
   ],
   "source": [
    "log_model=LogisticRegression()\n",
    "log_model.fit(X_train,Y_train)\n",
    "Y_pred=log_model.predict(X_test)\n",
    "accuracy_score(Y_test,Y_pred)"
   ]
  },
  {
   "cell_type": "markdown",
   "metadata": {},
   "source": [
    "This function powerset will return all possible subsets of queries"
   ]
  },
  {
   "cell_type": "code",
   "execution_count": 12,
   "metadata": {},
   "outputs": [],
   "source": [
    "def powerset(iterable):\n",
    "    it = list(iterable)\n",
    "    k = chain.from_iterable(combinations(it, a) for a in range(1, len(it)+1))\n",
    "    k = [list(j) for j in k]\n",
    "    for j in k:\n",
    "        j = j.sort(key = lambda x: x.split(\"_\")[0])\n",
    "    k = [\"-\".join(a) for a in k]\n",
    "    return k"
   ]
  },
  {
   "cell_type": "markdown",
   "metadata": {},
   "source": [
    "constructKb will construct knowledge base using the subsets produce by powerset function"
   ]
  },
  {
   "cell_type": "code",
   "execution_count": 13,
   "metadata": {},
   "outputs": [],
   "source": [
    "def constructKb(df):\n",
    "    data = np.array(df)\n",
    "    headers = df.columns.tolist()\n",
    "    counts = {}\n",
    "    Kb = {}\n",
    "    for row in data:\n",
    "        feaVals = set([headers[i] + \"_\" + str(row[i]) for i in range(len(headers) - 1) if row[i] != -1])\n",
    "        label = int(row[-1])\n",
    "        k = powerset(feaVals)\n",
    "        for key in k:\n",
    "            if key in counts:\n",
    "                counts[key][0] += 1\n",
    "                counts[key][1] += label\n",
    "            else:\n",
    "                counts[key] = [1, label]\n",
    "    for key in counts:\n",
    "        r = counts[key][1]/counts[key][0]\n",
    "        Kb[\"POS-\" + key] = r\n",
    "    return Kb"
   ]
  },
  {
   "cell_type": "code",
   "execution_count": 14,
   "metadata": {},
   "outputs": [],
   "source": [
    "Kb = constructKb(df.iloc[:len(X_train), :])"
   ]
  },
  {
   "cell_type": "markdown",
   "metadata": {},
   "source": [
    "This function constructRelevantKb will remove all irrelavant clauses and construct knowledge base with relevant clauses"
   ]
  },
  {
   "cell_type": "code",
   "execution_count": 23,
   "metadata": {},
   "outputs": [],
   "source": [
    "def constructRelevantKb(row, Kb):\n",
    "    rel_Kb = {}\n",
    "    feaVals = set([headers[i] + \"_\" + str(row[i]) for i in range(len(headers) - 1) if row[i] != -1])\n",
    "    k = powerset(feaVals)\n",
    "    clauses = list(Kb.keys())\n",
    "    for key in k:\n",
    "        if \"POS-\" + key in clauses:\n",
    "            rel_Kb[\"POS-\" + key] = Kb[\"POS-\" + key]\n",
    "    return rel_Kb"
   ]
  },
  {
   "cell_type": "code",
   "execution_count": 24,
   "metadata": {},
   "outputs": [],
   "source": [
    "relKb = constructRelevantKb(np.array(df)[random.randint(0, 300)], Kb)\n"
   ]
  },
  {
   "cell_type": "markdown",
   "metadata": {},
   "source": [
    "This function solveOneQuery implements the linear system using the pulp linear solver"
   ]
  },
  {
   "cell_type": "code",
   "execution_count": 29,
   "metadata": {},
   "outputs": [],
   "source": [
    "def solveOneQuery(query):\n",
    "    \n",
    "    clauseVars = {}\n",
    "    dummyClauseVars = {}\n",
    "    headerVars = {}\n",
    "\n",
    "    relKb = constructRelevantKb(query, Kb)\n",
    "    \n",
    "    m = Model(\"fan_et_al\")\n",
    "    \n",
    "    for i in relKb:\n",
    "        clauseVars[i] = m.addVar(vtype=GRB.CONTINUOUS, name = i)\n",
    "\n",
    "        dummyClauseVars[i] = m.addVar(vtype=GRB.CONTINUOUS, name = \"dummy_\"+i)\n",
    "        m.addConstr(dummyClauseVars[i] >= clauseVars[i] - relKb[i])\n",
    "        m.addConstr(dummyClauseVars[i] >= relKb[i] - clauseVars[i])\n",
    "\n",
    "    for i in headers[:-1]:\n",
    "        headerVars[i + \"_0\"] = m.addVar(vtype=GRB.CONTINUOUS, name = i + \"_0\")\n",
    "        headerVars[i + \"_1\"] = m.addVar(vtype=GRB.CONTINUOUS, name = i + \"_1\")\n",
    "        \n",
    "\n",
    "        m.addConstr(headerVars[i + \"_1\"] + headerVars[i + \"_0\"] == 1)\n",
    "\n",
    "    headerVars[\"POS\"] = m.addVar(vtype=GRB.CONTINUOUS, name = \"POS\")\n",
    "\n",
    "    for i in headerVars:\n",
    "        m.addConstr(headerVars[i] >= 0)\n",
    "        m.addConstr(headerVars[i] <= 1) \n",
    "    \n",
    "    for i in relKb:\n",
    "        j = i.split(\"-\")\n",
    "        j = [a.replace(\"_0\", \"_1\") if \"_0\" in a else a.replace(\"_1\", \"_0\") for a in j]\n",
    "        j = [headerVars[a] for a in j]\n",
    "        \n",
    "\n",
    "        m.addConstr(clauseVars[i] <= quicksum(j))\n",
    "        \n",
    "        for cl in j:\n",
    "            m.addConstr(clauseVars[i] >= cl)\n",
    "\n",
    "    for i in range(len(headers) - 1):\n",
    "        if query[i] == 1:\n",
    "            m.addConstr(headerVars[headers[i]+\"_1\"] == 1)\n",
    "            m.addConstr(headerVars[headers[i]+\"_0\"] == 0)\n",
    "        elif query[i] == 0:\n",
    "            m.addConstr(headerVars[headers[i]+\"_1\"] == 0)\n",
    "            m.addConstr(headerVars[headers[i]+\"_0\"] == 1)\n",
    "\n",
    "    # setting objective\n",
    "    expr = LinExpr()\n",
    "    for a in relKb:\n",
    "        expr.addTerms(1.0, dummyClauseVars[a])\n",
    "    m.setObjective(expr, GRB.MINIMIZE)\n",
    "\n",
    "    m.optimize()\n",
    "\n",
    "    w_POS = headerVars[\"POS\"].X\n",
    "\n",
    "    return w_POS"
   ]
  },
  {
   "cell_type": "code",
   "execution_count": 31,
   "metadata": {},
   "outputs": [
    {
     "name": "stdout",
     "output_type": "stream",
     "text": [
      "Sample Query: \n"
     ]
    },
    {
     "data": {
      "text/html": [
       "<div>\n",
       "<style scoped>\n",
       "    .dataframe tbody tr th:only-of-type {\n",
       "        vertical-align: middle;\n",
       "    }\n",
       "\n",
       "    .dataframe tbody tr th {\n",
       "        vertical-align: top;\n",
       "    }\n",
       "\n",
       "    .dataframe thead th {\n",
       "        text-align: right;\n",
       "    }\n",
       "</style>\n",
       "<table border=\"1\" class=\"dataframe\">\n",
       "  <thead>\n",
       "    <tr style=\"text-align: right;\">\n",
       "      <th></th>\n",
       "      <th>Age</th>\n",
       "      <th>Gender</th>\n",
       "      <th>Total_Bilirubin</th>\n",
       "      <th>Direct_Bilirubin</th>\n",
       "      <th>Alkaline_Phosphotase</th>\n",
       "      <th>Alamine_Aminotransferase</th>\n",
       "      <th>Aspartate_Aminotransferase</th>\n",
       "      <th>Total_Protiens</th>\n",
       "      <th>Albumin</th>\n",
       "      <th>Albumin_and_Globulin_Ratio</th>\n",
       "      <th>Dataset</th>\n",
       "    </tr>\n",
       "  </thead>\n",
       "  <tbody>\n",
       "    <tr>\n",
       "      <th>263</th>\n",
       "      <td>0</td>\n",
       "      <td>0</td>\n",
       "      <td>0</td>\n",
       "      <td>0</td>\n",
       "      <td>0</td>\n",
       "      <td>0</td>\n",
       "      <td>0</td>\n",
       "      <td>1</td>\n",
       "      <td>0</td>\n",
       "      <td>0</td>\n",
       "      <td>1</td>\n",
       "    </tr>\n",
       "  </tbody>\n",
       "</table>\n",
       "</div>"
      ],
      "text/plain": [
       "     Age  Gender  Total_Bilirubin  Direct_Bilirubin  Alkaline_Phosphotase  \\\n",
       "263    0       0                0                 0                     0   \n",
       "\n",
       "     Alamine_Aminotransferase  Aspartate_Aminotransferase  Total_Protiens  \\\n",
       "263                         0                           0               1   \n",
       "\n",
       "     Albumin  Albumin_and_Globulin_Ratio  Dataset  \n",
       "263        0                           0        1  "
      ]
     },
     "metadata": {},
     "output_type": "display_data"
    },
    {
     "name": "stdout",
     "output_type": "stream",
     "text": [
      "w_POS found to be:  0.60465116\n",
      "True label:  1\n"
     ]
    }
   ],
   "source": [
    "index = random.randint(0, 300)\n",
    "print(\"Sample Query: \")\n",
    "display(df.iloc[index:index + 1, :])\n",
    "\n",
    "w_POS = solveOneQuery(np.array(df)[index])\n",
    "\n",
    "print(\"w_POS found to be: \", w_POS)\n",
    "\n",
    "print(\"True label: \", np.array(df)[index][-1])"
   ]
  },
  {
   "cell_type": "markdown",
   "metadata": {},
   "source": [
    "Now entire dataset is passed as input to our linear solver. Our dataset will be treated as queries"
   ]
  },
  {
   "cell_type": "code",
   "execution_count": 32,
   "metadata": {},
   "outputs": [
    {
     "name": "stdout",
     "output_type": "stream",
     "text": [
      "Linear Solver....\n",
      "Done.\n"
     ]
    }
   ],
   "source": [
    "res = []\n",
    "l = 0\n",
    "print(\"Linear Solver....\")\n",
    "for query in X_test:\n",
    "    res.append(1 if solveOneQuery(query) >= 0.5 else 0)\n",
    "print(\"Done.\")"
   ]
  },
  {
   "cell_type": "markdown",
   "metadata": {},
   "source": [
    "This function explainQuery lists the features that explain the decision."
   ]
  },
  {
   "cell_type": "code",
   "execution_count": 36,
   "metadata": {},
   "outputs": [],
   "source": [
    "def explainQuery(q, k = 1):\n",
    " \n",
    "    probs = []\n",
    "    \n",
    "    k = 1 if k < 1 else k\n",
    "    k = len(headers) - 1 if k > len(headers) - 1 else k\n",
    "\n",
    "    comb = combinations(headers[:-1], k)\n",
    "    \n",
    "\n",
    "    class_ = solveOneQuery(q)\n",
    "    \n",
    "    for a in comb:\n",
    "        query = prepareQuery(a, q)\n",
    "        probs.append({\n",
    "            \"explanation\": a,\n",
    "            \"w_POS\": solveOneQuery(query) \n",
    "        })\n",
    "    \n",
    "    if class_ >= 0.5:\n",
    "        probs = sorted(probs, key = lambda x: x[\"w_POS\"], reverse = True)\n",
    "        say = \"positive\"\n",
    "    else:\n",
    "        probs = sorted(probs, key = lambda x: x[\"w_POS\"])\n",
    "        say = \"negative\"\n",
    "\n",
    "    opt = probs[0][\"w_POS\"]\n",
    "    probs = [prob for prob in probs if prob[\"w_POS\"] == opt]\n",
    "\n",
    "    count = {}\n",
    "    for prob in probs:\n",
    "        for key in prob[\"explanation\"]:\n",
    "            if key in count:\n",
    "                count[key] += 1\n",
    "            else:\n",
    "                count[key] = 1\n",
    "\n",
    "    count = [{a: count[a]} for a in list(count.keys())]\n",
    "    count = sorted(count, key = lambda x: list(x.values())[0], reverse = True)[:k]\n",
    "    count = [list(a.keys())[0] for a in count]\n",
    "    \n",
    "    return count, class_"
   ]
  },
  {
   "cell_type": "code",
   "execution_count": 37,
   "metadata": {},
   "outputs": [],
   "source": [
    "def prepareQuery(include, query):\n",
    "    q = []\n",
    "    for i in headers[:-1]:\n",
    "        if i in include:\n",
    "            q.append(query[headers.index(i)])\n",
    "        else:\n",
    "            q.append(-1)\n",
    "    return q"
   ]
  },
  {
   "cell_type": "code",
   "execution_count": 38,
   "metadata": {},
   "outputs": [
    {
     "data": {
      "text/html": [
       "<div>\n",
       "<style scoped>\n",
       "    .dataframe tbody tr th:only-of-type {\n",
       "        vertical-align: middle;\n",
       "    }\n",
       "\n",
       "    .dataframe tbody tr th {\n",
       "        vertical-align: top;\n",
       "    }\n",
       "\n",
       "    .dataframe thead th {\n",
       "        text-align: right;\n",
       "    }\n",
       "</style>\n",
       "<table border=\"1\" class=\"dataframe\">\n",
       "  <thead>\n",
       "    <tr style=\"text-align: right;\">\n",
       "      <th></th>\n",
       "      <th>Age</th>\n",
       "      <th>Gender</th>\n",
       "      <th>Total_Bilirubin</th>\n",
       "      <th>Direct_Bilirubin</th>\n",
       "      <th>Alkaline_Phosphotase</th>\n",
       "      <th>Alamine_Aminotransferase</th>\n",
       "      <th>Aspartate_Aminotransferase</th>\n",
       "      <th>Total_Protiens</th>\n",
       "      <th>Albumin</th>\n",
       "      <th>Albumin_and_Globulin_Ratio</th>\n",
       "      <th>Dataset</th>\n",
       "    </tr>\n",
       "  </thead>\n",
       "  <tbody>\n",
       "    <tr>\n",
       "      <th>109</th>\n",
       "      <td>0</td>\n",
       "      <td>1</td>\n",
       "      <td>0</td>\n",
       "      <td>0</td>\n",
       "      <td>1</td>\n",
       "      <td>0</td>\n",
       "      <td>0</td>\n",
       "      <td>0</td>\n",
       "      <td>0</td>\n",
       "      <td>0</td>\n",
       "      <td>0</td>\n",
       "    </tr>\n",
       "  </tbody>\n",
       "</table>\n",
       "</div>"
      ],
      "text/plain": [
       "     Age  Gender  Total_Bilirubin  Direct_Bilirubin  Alkaline_Phosphotase  \\\n",
       "109    0       1                0                 0                     1   \n",
       "\n",
       "     Alamine_Aminotransferase  Aspartate_Aminotransferase  Total_Protiens  \\\n",
       "109                         0                           0               0   \n",
       "\n",
       "     Albumin  Albumin_and_Globulin_Ratio  Dataset  \n",
       "109        0                           0        0  "
      ]
     },
     "metadata": {},
     "output_type": "display_data"
    }
   ],
   "source": [
    "index = random.randint(0, 300)\n",
    "display(df.iloc[index:index + 1, :])\n",
    "res = explainQuery(np.array(df)[index], k = 3)"
   ]
  },
  {
   "cell_type": "markdown",
   "metadata": {},
   "source": [
    "Now we will run explanation function on all queries to decide the importance of each feature in our data"
   ]
  },
  {
   "cell_type": "code",
   "execution_count": null,
   "metadata": {},
   "outputs": [],
   "source": [
    "allData = []\n",
    "for q in np.array(df):\n",
    "    exp = explainQuery(q, k = 2)\n",
    "    feature = exp[0]\n",
    "    if exp[1] >= 0.5:\n",
    "        allData += [f for f in feature]\n",
    "    else:\n",
    "        allData += [f for f in feature]"
   ]
  },
  {
   "cell_type": "markdown",
   "metadata": {},
   "source": [
    "Plotting the result with the percentage of how important features are during classification or in other words which features contribute more to liver disease"
   ]
  },
  {
   "cell_type": "code",
   "execution_count": 116,
   "metadata": {},
   "outputs": [
    {
     "data": {
      "image/png": "[encoded data removed]",
      "text/plain": [
       "<Figure size 1200x1200 with 1 Axes>"
      ]
     },
     "metadata": {},
     "output_type": "display_data"
    }
   ],
   "source": [
    "counter = Counter(allData)\n",
    "features = list(counter.keys())\n",
    "values = np.array(list(counter.values()))\n",
    "plt.figure(figsize=(10, 10), dpi = 120)\n",
    "plt.pie(values, labels = features, autopct='%.1f%%')\n",
    "plt.tight_layout()\n",
    "plt.tight_layout()\n",
    "plt.show()"
   ]
  },
  {
   "cell_type": "code",
   "execution_count": null,
   "metadata": {},
   "outputs": [],
   "source": []
  }
 ],
 "metadata": {
  "kernelspec": {
   "display_name": "Python 3",
   "language": "python",
   "name": "python3"
  },
  "language_info": {
   "codemirror_mode": {
    "name": "ipython",
    "version": 3
   },
   "file_extension": ".py",
   "mimetype": "text/x-python",
   "name": "python",
   "nbconvert_exporter": "python",
   "pygments_lexer": "ipython3",
   "version": "3.8.3"
  }
 },
 "nbformat": 4,
 "nbformat_minor": 4
}
